{
 "cells": [
  {
   "cell_type": "markdown",
   "metadata": {
    "slideshow": {
     "slide_type": "slide"
    }
   },
   "source": [
    "Theano \n",
    "===\n",
    "An optimizing compiler for symbolic math expressions"
   ]
  },
  {
   "cell_type": "code",
   "execution_count": 17,
   "metadata": {
    "collapsed": false,
    "slideshow": {
     "slide_type": "fragment"
    }
   },
   "outputs": [],
   "source": [
    "import theano\n",
    "import theano.tensor as T"
   ]
  },
  {
   "cell_type": "markdown",
   "metadata": {
    "slideshow": {
     "slide_type": "slide"
    }
   },
   "source": [
    "Symbolic variables\n",
    "=========="
   ]
  },
  {
   "cell_type": "code",
   "execution_count": 18,
   "metadata": {
    "collapsed": false,
    "slideshow": {
     "slide_type": "fragment"
    }
   },
   "outputs": [],
   "source": [
    "x = T.scalar()"
   ]
  },
  {
   "cell_type": "code",
   "execution_count": 19,
   "metadata": {
    "collapsed": false,
    "slideshow": {
     "slide_type": "fragment"
    }
   },
   "outputs": [
    {
     "data": {
      "text/plain": [
       "<TensorType(float32, scalar)>"
      ]
     },
     "execution_count": 19,
     "metadata": {},
     "output_type": "execute_result"
    }
   ],
   "source": [
    "x"
   ]
  },
  {
   "cell_type": "markdown",
   "metadata": {
    "slideshow": {
     "slide_type": "slide"
    }
   },
   "source": [
    "Variables can be used in expressions"
   ]
  },
  {
   "cell_type": "code",
   "execution_count": 20,
   "metadata": {
    "collapsed": false,
    "slideshow": {
     "slide_type": "-"
    }
   },
   "outputs": [],
   "source": [
    "y = 3*(x**2) + 1"
   ]
  },
  {
   "cell_type": "markdown",
   "metadata": {
    "slideshow": {
     "slide_type": "fragment"
    }
   },
   "source": [
    "Result is symbolic as well"
   ]
  },
  {
   "cell_type": "code",
   "execution_count": 21,
   "metadata": {
    "collapsed": false,
    "slideshow": {
     "slide_type": "-"
    }
   },
   "outputs": [
    {
     "data": {
      "text/plain": [
       "theano.tensor.var.TensorVariable"
      ]
     },
     "execution_count": 21,
     "metadata": {},
     "output_type": "execute_result"
    }
   ],
   "source": [
    "type(y)"
   ]
  },
  {
   "cell_type": "markdown",
   "metadata": {
    "slideshow": {
     "slide_type": "slide"
    }
   },
   "source": [
    "Investigating expressions"
   ]
  },
  {
   "cell_type": "code",
   "execution_count": 22,
   "metadata": {
    "collapsed": false,
    "slideshow": {
     "slide_type": "fragment"
    }
   },
   "outputs": [
    {
     "name": "stdout",
     "output_type": "stream",
     "text": [
      "Elemwise{add,no_inplace}.0\n"
     ]
    }
   ],
   "source": [
    "print(y)"
   ]
  },
  {
   "cell_type": "code",
   "execution_count": 23,
   "metadata": {
    "collapsed": false,
    "slideshow": {
     "slide_type": "fragment"
    }
   },
   "outputs": [
    {
     "data": {
      "text/plain": [
       "'((TensorConstant{3} * (<TensorType(float32, scalar)> ** TensorConstant{2})) + TensorConstant{1})'"
      ]
     },
     "execution_count": 23,
     "metadata": {},
     "output_type": "execute_result"
    }
   ],
   "source": [
    "theano.pprint(y)"
   ]
  },
  {
   "cell_type": "code",
   "execution_count": 24,
   "metadata": {
    "collapsed": false,
    "slideshow": {
     "slide_type": "fragment"
    }
   },
   "outputs": [
    {
     "name": "stdout",
     "output_type": "stream",
     "text": [
      "Elemwise{add,no_inplace} [@A] ''   \n",
      " |Elemwise{mul,no_inplace} [@B] ''   \n",
      " | |TensorConstant{3} [@C]\n",
      " | |Elemwise{pow,no_inplace} [@D] ''   \n",
      " |   |<TensorType(float32, scalar)> [@E]\n",
      " |   |TensorConstant{2} [@F]\n",
      " |TensorConstant{1} [@G]\n"
     ]
    }
   ],
   "source": [
    "theano.printing.debugprint(y)"
   ]
  },
  {
   "cell_type": "code",
   "execution_count": 25,
   "metadata": {
    "collapsed": false,
    "slideshow": {
     "slide_type": "slide"
    }
   },
   "outputs": [
    {
     "data": {
      "image/svg+xml": [
       "<svg height=\"382pt\" viewBox=\"0.00 0.00 670.00 382.00\" width=\"670pt\" xmlns=\"http://www.w3.org/2000/svg\" xmlns:xlink=\"http://www.w3.org/1999/xlink\">\n",
       "<g class=\"graph\" id=\"graph0\" transform=\"scale(1 1) rotate(0) translate(4 378)\">\n",
       "<title>G</title>\n",
       "<polygon fill=\"white\" points=\"-4,4 -4,-378 666,-378 666,4 -4,4\" stroke=\"none\"/>\n",
       "<!-- 139670232979664 -->\n",
       "<g class=\"node\" id=\"node1\"><title>139670232979664</title>\n",
       "<ellipse cx=\"472\" cy=\"-268\" fill=\"#ffaabb\" rx=\"110.235\" ry=\"18\" stroke=\"black\"/>\n",
       "<text font-family=\"Times,serif\" font-size=\"14.00\" text-anchor=\"middle\" x=\"472\" y=\"-264.3\">Elemwise{pow,no_inplace}</text>\n",
       "</g>\n",
       "<!-- 139670232268304 -->\n",
       "<g class=\"node\" id=\"node4\"><title>139670232268304</title>\n",
       "<ellipse cx=\"314\" cy=\"-180\" fill=\"#ffaabb\" rx=\"109.261\" ry=\"18\" stroke=\"black\"/>\n",
       "<text font-family=\"Times,serif\" font-size=\"14.00\" text-anchor=\"middle\" x=\"314\" y=\"-176.3\">Elemwise{mul,no_inplace}</text>\n",
       "</g>\n",
       "<!-- 139670232979664&#45;&gt;139670232268304 -->\n",
       "<g class=\"edge\" id=\"edge4\"><title>139670232979664-&gt;139670232268304</title>\n",
       "<path d=\"M441.91,-250.622C416.651,-236.873 380.394,-217.139 352.928,-202.188\" fill=\"none\" stroke=\"black\"/>\n",
       "<polygon fill=\"black\" points=\"354.435,-199.024 343.978,-197.317 351.088,-205.172 354.435,-199.024\" stroke=\"black\"/>\n",
       "<text font-family=\"Times,serif\" font-size=\"14.00\" text-anchor=\"middle\" x=\"488.5\" y=\"-220.3\">1 TensorType(float32, scalar)</text>\n",
       "</g>\n",
       "<!-- 139670232978704 -->\n",
       "<g class=\"node\" id=\"node2\"><title>139670232978704</title>\n",
       "<polygon fill=\"green\" points=\"457.5,-374 290.5,-374 290.5,-338 457.5,-338 457.5,-374\" stroke=\"black\"/>\n",
       "<text font-family=\"Times,serif\" font-size=\"14.00\" text-anchor=\"middle\" x=\"374\" y=\"-352.3\">TensorType(float32, scalar)</text>\n",
       "</g>\n",
       "<!-- 139670232978704&#45;&gt;139670232979664 -->\n",
       "<g class=\"edge\" id=\"edge1\"><title>139670232978704-&gt;139670232979664</title>\n",
       "<path d=\"M393.832,-337.597C408.636,-324.605 429.024,-306.714 445.267,-292.46\" fill=\"none\" stroke=\"black\"/>\n",
       "<polygon fill=\"black\" points=\"447.657,-295.019 452.865,-285.792 443.04,-289.757 447.657,-295.019\" stroke=\"black\"/>\n",
       "<text font-family=\"Times,serif\" font-size=\"14.00\" text-anchor=\"middle\" x=\"434.5\" y=\"-308.3\">0</text>\n",
       "</g>\n",
       "<!-- 139670232978832 -->\n",
       "<g class=\"node\" id=\"node3\"><title>139670232978832</title>\n",
       "<polygon fill=\"green\" points=\"661.5,-374 476.5,-374 476.5,-338 661.5,-338 661.5,-374\" stroke=\"black\"/>\n",
       "<text font-family=\"Times,serif\" font-size=\"14.00\" text-anchor=\"middle\" x=\"569\" y=\"-352.3\">val=2 TensorType(int8, scalar)</text>\n",
       "</g>\n",
       "<!-- 139670232978832&#45;&gt;139670232979664 -->\n",
       "<g class=\"edge\" id=\"edge2\"><title>139670232978832-&gt;139670232979664</title>\n",
       "<path d=\"M549.371,-337.597C534.718,-324.605 514.537,-306.714 498.46,-292.46\" fill=\"none\" stroke=\"black\"/>\n",
       "<polygon fill=\"black\" points=\"500.745,-289.807 490.94,-285.792 496.101,-295.045 500.745,-289.807\" stroke=\"black\"/>\n",
       "<text font-family=\"Times,serif\" font-size=\"14.00\" text-anchor=\"middle\" x=\"532.5\" y=\"-308.3\">1</text>\n",
       "</g>\n",
       "<!-- 139670232268368 -->\n",
       "<g class=\"node\" id=\"node6\"><title>139670232268368</title>\n",
       "<ellipse cx=\"155\" cy=\"-92\" fill=\"#ffaabb\" rx=\"108.31\" ry=\"18\" stroke=\"black\"/>\n",
       "<text font-family=\"Times,serif\" font-size=\"14.00\" text-anchor=\"middle\" x=\"155\" y=\"-88.3\">Elemwise{add,no_inplace}</text>\n",
       "</g>\n",
       "<!-- 139670232268304&#45;&gt;139670232268368 -->\n",
       "<g class=\"edge\" id=\"edge5\"><title>139670232268304-&gt;139670232268368</title>\n",
       "<path d=\"M283.719,-162.622C258.3,-148.873 221.814,-129.139 194.174,-114.188\" fill=\"none\" stroke=\"black\"/>\n",
       "<polygon fill=\"black\" points=\"195.629,-110.996 185.168,-109.317 192.299,-117.153 195.629,-110.996\" stroke=\"black\"/>\n",
       "<text font-family=\"Times,serif\" font-size=\"14.00\" text-anchor=\"middle\" x=\"329.5\" y=\"-132.3\">0 TensorType(float32, scalar)</text>\n",
       "</g>\n",
       "<!-- 139670232978640 -->\n",
       "<g class=\"node\" id=\"node5\"><title>139670232978640</title>\n",
       "<polygon fill=\"green\" points=\"343.5,-286 158.5,-286 158.5,-250 343.5,-250 343.5,-286\" stroke=\"black\"/>\n",
       "<text font-family=\"Times,serif\" font-size=\"14.00\" text-anchor=\"middle\" x=\"251\" y=\"-264.3\">val=3 TensorType(int8, scalar)</text>\n",
       "</g>\n",
       "<!-- 139670232978640&#45;&gt;139670232268304 -->\n",
       "<g class=\"edge\" id=\"edge3\"><title>139670232978640-&gt;139670232268304</title>\n",
       "<path d=\"M263.749,-249.597C272.86,-237.159 285.262,-220.23 295.465,-206.302\" fill=\"none\" stroke=\"black\"/>\n",
       "<polygon fill=\"black\" points=\"298.399,-208.219 301.485,-198.084 292.752,-204.083 298.399,-208.219\" stroke=\"black\"/>\n",
       "<text font-family=\"Times,serif\" font-size=\"14.00\" text-anchor=\"middle\" x=\"291.5\" y=\"-220.3\">0</text>\n",
       "</g>\n",
       "<!-- 139670231482960 -->\n",
       "<g class=\"node\" id=\"node8\"><title>139670231482960</title>\n",
       "<polygon fill=\"blue\" points=\"238.5,-36 71.5,-36 71.5,-0 238.5,-0 238.5,-36\" stroke=\"black\"/>\n",
       "<text font-family=\"Times,serif\" font-size=\"14.00\" text-anchor=\"middle\" x=\"155\" y=\"-14.3\">TensorType(float32, scalar)</text>\n",
       "</g>\n",
       "<!-- 139670232268368&#45;&gt;139670231482960 -->\n",
       "<g class=\"edge\" id=\"edge7\"><title>139670232268368-&gt;139670231482960</title>\n",
       "<path d=\"M155,-73.937C155,-65.8072 155,-55.8761 155,-46.7047\" fill=\"none\" stroke=\"black\"/>\n",
       "<polygon fill=\"black\" points=\"158.5,-46.4406 155,-36.4407 151.5,-46.4407 158.5,-46.4406\" stroke=\"black\"/>\n",
       "</g>\n",
       "<!-- 139670232978896 -->\n",
       "<g class=\"node\" id=\"node7\"><title>139670232978896</title>\n",
       "<polygon fill=\"green\" points=\"185.5,-198 0.5,-198 0.5,-162 185.5,-162 185.5,-198\" stroke=\"black\"/>\n",
       "<text font-family=\"Times,serif\" font-size=\"14.00\" text-anchor=\"middle\" x=\"93\" y=\"-176.3\">val=1 TensorType(int8, scalar)</text>\n",
       "</g>\n",
       "<!-- 139670232978896&#45;&gt;139670232268368 -->\n",
       "<g class=\"edge\" id=\"edge6\"><title>139670232978896-&gt;139670232268368</title>\n",
       "<path d=\"M105.547,-161.597C114.513,-149.159 126.718,-132.23 136.759,-118.302\" fill=\"none\" stroke=\"black\"/>\n",
       "<polygon fill=\"black\" points=\"139.675,-120.243 142.684,-110.084 133.996,-116.149 139.675,-120.243\" stroke=\"black\"/>\n",
       "<text font-family=\"Times,serif\" font-size=\"14.00\" text-anchor=\"middle\" x=\"133.5\" y=\"-132.3\">1</text>\n",
       "</g>\n",
       "</g>\n",
       "</svg>"
      ],
      "text/plain": [
       "<IPython.core.display.SVG object>"
      ]
     },
     "execution_count": 25,
     "metadata": {},
     "output_type": "execute_result"
    }
   ],
   "source": [
    "from IPython.display import SVG\n",
    "SVG(theano.printing.pydotprint(y, return_image=True, format='svg'))"
   ]
  },
  {
   "cell_type": "markdown",
   "metadata": {
    "slideshow": {
     "slide_type": "slide"
    }
   },
   "source": [
    "Evaluating expressions\n",
    "============\n",
    "\n",
    "Supply a `dict` mapping variables to values"
   ]
  },
  {
   "cell_type": "code",
   "execution_count": 26,
   "metadata": {
    "collapsed": false
   },
   "outputs": [
    {
     "data": {
      "text/plain": [
       "array(13.0, dtype=float32)"
      ]
     },
     "execution_count": 26,
     "metadata": {},
     "output_type": "execute_result"
    }
   ],
   "source": [
    "y.eval({x: 2})"
   ]
  },
  {
   "cell_type": "markdown",
   "metadata": {
    "slideshow": {
     "slide_type": "slide"
    }
   },
   "source": [
    "Or compile a function"
   ]
  },
  {
   "cell_type": "code",
   "execution_count": 27,
   "metadata": {
    "collapsed": true
   },
   "outputs": [],
   "source": [
    "f = theano.function([x], y)"
   ]
  },
  {
   "cell_type": "code",
   "execution_count": 28,
   "metadata": {
    "collapsed": false,
    "slideshow": {
     "slide_type": "fragment"
    }
   },
   "outputs": [
    {
     "data": {
      "text/plain": [
       "array(13.0, dtype=float32)"
      ]
     },
     "execution_count": 28,
     "metadata": {},
     "output_type": "execute_result"
    }
   ],
   "source": [
    "f(2)"
   ]
  },
  {
   "cell_type": "markdown",
   "metadata": {
    "slideshow": {
     "slide_type": "slide"
    }
   },
   "source": [
    "Compiled function has been transformed"
   ]
  },
  {
   "cell_type": "code",
   "execution_count": 29,
   "metadata": {
    "collapsed": false,
    "slideshow": {
     "slide_type": "fragment"
    }
   },
   "outputs": [
    {
     "data": {
      "image/svg+xml": [
       "<svg height=\"368pt\" viewBox=\"0.00 0.00 717.00 368.00\" width=\"717pt\" xmlns=\"http://www.w3.org/2000/svg\" xmlns:xlink=\"http://www.w3.org/1999/xlink\">\n",
       "<g class=\"graph\" id=\"graph0\" transform=\"scale(1 1) rotate(0) translate(4 364)\">\n",
       "<title>G</title>\n",
       "<polygon fill=\"white\" points=\"-4,4 -4,-364 713,-364 713,4 -4,4\" stroke=\"none\"/>\n",
       "<!-- 139670211310224 -->\n",
       "<g class=\"node\" id=\"node1\"><title>139670211310224</title>\n",
       "<ellipse cx=\"595\" cy=\"-268\" fill=\"red\" rx=\"61.6163\" ry=\"18\" stroke=\"black\"/>\n",
       "<text font-family=\"Times,serif\" font-size=\"14.00\" text-anchor=\"middle\" x=\"595\" y=\"-264.3\">GpuFromHost</text>\n",
       "</g>\n",
       "<!-- 139670211421072 -->\n",
       "<g class=\"node\" id=\"node3\"><title>139670211421072</title>\n",
       "<ellipse cx=\"391\" cy=\"-180\" fill=\"#ffaabb\" rx=\"210.372\" ry=\"18\" stroke=\"black\"/>\n",
       "<text font-family=\"Times,serif\" font-size=\"14.00\" text-anchor=\"middle\" x=\"391\" y=\"-176.3\">GpuElemwise{Composite{(i0 + (i1 * sqr(i2)))}}[(0, 2)]</text>\n",
       "</g>\n",
       "<!-- 139670211310224&#45;&gt;139670211421072 -->\n",
       "<g class=\"edge\" id=\"edge4\"><title>139670211310224-&gt;139670211421072</title>\n",
       "<path d=\"M561.314,-252.799C528.242,-238.857 477.439,-217.44 439.919,-201.623\" fill=\"none\" stroke=\"red\"/>\n",
       "<polygon fill=\"red\" points=\"441.259,-198.389 430.685,-197.73 438.54,-204.84 441.259,-198.389\" stroke=\"red\"/>\n",
       "<text font-family=\"Times,serif\" font-size=\"14.00\" text-anchor=\"middle\" x=\"610\" y=\"-220.3\">2 CudaNdarrayType(float32, scalar)</text>\n",
       "</g>\n",
       "<!-- 139670210791760 -->\n",
       "<g class=\"node\" id=\"node2\"><title>139670210791760</title>\n",
       "<polygon fill=\"green\" points=\"678.5,-360 511.5,-360 511.5,-324 678.5,-324 678.5,-360\" stroke=\"black\"/>\n",
       "<text font-family=\"Times,serif\" font-size=\"14.00\" text-anchor=\"middle\" x=\"595\" y=\"-338.3\">TensorType(float32, scalar)</text>\n",
       "</g>\n",
       "<!-- 139670210791760&#45;&gt;139670211310224 -->\n",
       "<g class=\"edge\" id=\"edge1\"><title>139670210791760-&gt;139670211310224</title>\n",
       "<path d=\"M595,-323.937C595,-315.807 595,-305.876 595,-296.705\" fill=\"none\" stroke=\"black\"/>\n",
       "<polygon fill=\"black\" points=\"598.5,-296.441 595,-286.441 591.5,-296.441 598.5,-296.441\" stroke=\"black\"/>\n",
       "</g>\n",
       "<!-- 139670203407696 -->\n",
       "<g class=\"node\" id=\"node6\"><title>139670203407696</title>\n",
       "<ellipse cx=\"391\" cy=\"-92\" fill=\"red\" rx=\"61.6163\" ry=\"18\" stroke=\"black\"/>\n",
       "<text font-family=\"Times,serif\" font-size=\"14.00\" text-anchor=\"middle\" x=\"391\" y=\"-88.3\">HostFromGpu</text>\n",
       "</g>\n",
       "<!-- 139670211421072&#45;&gt;139670203407696 -->\n",
       "<g class=\"edge\" id=\"edge5\"><title>139670211421072-&gt;139670203407696</title>\n",
       "<path d=\"M391,-161.597C391,-149.746 391,-133.817 391,-120.292\" fill=\"none\" stroke=\"black\"/>\n",
       "<polygon fill=\"black\" points=\"394.5,-120.084 391,-110.084 387.5,-120.084 394.5,-120.084\" stroke=\"black\"/>\n",
       "<text font-family=\"Times,serif\" font-size=\"14.00\" text-anchor=\"middle\" x=\"484.5\" y=\"-132.3\">CudaNdarrayType(float32, scalar)</text>\n",
       "</g>\n",
       "<!-- 139670210995600 -->\n",
       "<g class=\"node\" id=\"node4\"><title>139670210995600</title>\n",
       "<polygon fill=\"green\" points=\"248.25,-286 -0.25,-286 -0.25,-250 248.25,-250 248.25,-286\" stroke=\"black\"/>\n",
       "<text font-family=\"Times,serif\" font-size=\"14.00\" text-anchor=\"middle\" x=\"124\" y=\"-264.3\">val=1.0 CudaNdarrayType(float32, scalar)</text>\n",
       "</g>\n",
       "<!-- 139670210995600&#45;&gt;139670211421072 -->\n",
       "<g class=\"edge\" id=\"edge2\"><title>139670210995600-&gt;139670211421072</title>\n",
       "<path d=\"M177.07,-249.906C221.226,-235.684 284.098,-215.433 330.26,-200.564\" fill=\"none\" stroke=\"black\"/>\n",
       "<polygon fill=\"black\" points=\"331.398,-203.875 339.844,-197.477 329.252,-197.212 331.398,-203.875\" stroke=\"black\"/>\n",
       "<text font-family=\"Times,serif\" font-size=\"14.00\" text-anchor=\"middle\" x=\"284.5\" y=\"-220.3\">0</text>\n",
       "</g>\n",
       "<!-- 139670211312528 -->\n",
       "<g class=\"node\" id=\"node5\"><title>139670211312528</title>\n",
       "<polygon fill=\"green\" points=\"515.25,-286 266.75,-286 266.75,-250 515.25,-250 515.25,-286\" stroke=\"black\"/>\n",
       "<text font-family=\"Times,serif\" font-size=\"14.00\" text-anchor=\"middle\" x=\"391\" y=\"-264.3\">val=3.0 CudaNdarrayType(float32, scalar)</text>\n",
       "</g>\n",
       "<!-- 139670211312528&#45;&gt;139670211421072 -->\n",
       "<g class=\"edge\" id=\"edge3\"><title>139670211312528-&gt;139670211421072</title>\n",
       "<path d=\"M391,-249.597C391,-237.746 391,-221.817 391,-208.292\" fill=\"none\" stroke=\"black\"/>\n",
       "<polygon fill=\"black\" points=\"394.5,-208.084 391,-198.084 387.5,-208.084 394.5,-208.084\" stroke=\"black\"/>\n",
       "<text font-family=\"Times,serif\" font-size=\"14.00\" text-anchor=\"middle\" x=\"394.5\" y=\"-220.3\">1</text>\n",
       "</g>\n",
       "<!-- 139670203405776 -->\n",
       "<g class=\"node\" id=\"node7\"><title>139670203405776</title>\n",
       "<polygon fill=\"blue\" points=\"474.5,-36 307.5,-36 307.5,-0 474.5,-0 474.5,-36\" stroke=\"black\"/>\n",
       "<text font-family=\"Times,serif\" font-size=\"14.00\" text-anchor=\"middle\" x=\"391\" y=\"-14.3\">TensorType(float32, scalar)</text>\n",
       "</g>\n",
       "<!-- 139670203407696&#45;&gt;139670203405776 -->\n",
       "<g class=\"edge\" id=\"edge6\"><title>139670203407696-&gt;139670203405776</title>\n",
       "<path d=\"M391,-73.937C391,-65.8072 391,-55.8761 391,-46.7047\" fill=\"none\" stroke=\"black\"/>\n",
       "<polygon fill=\"black\" points=\"394.5,-46.4406 391,-36.4407 387.5,-46.4407 394.5,-46.4406\" stroke=\"black\"/>\n",
       "</g>\n",
       "</g>\n",
       "</svg>"
      ],
      "text/plain": [
       "<IPython.core.display.SVG object>"
      ]
     },
     "execution_count": 29,
     "metadata": {},
     "output_type": "execute_result"
    }
   ],
   "source": [
    "SVG(theano.printing.pydotprint(f, return_image=True, format='svg'))"
   ]
  },
  {
   "cell_type": "markdown",
   "metadata": {
    "slideshow": {
     "slide_type": "slide"
    }
   },
   "source": [
    "Other tensor types\n",
    "=========="
   ]
  },
  {
   "cell_type": "code",
   "execution_count": 30,
   "metadata": {
    "collapsed": true,
    "slideshow": {
     "slide_type": "-"
    }
   },
   "outputs": [],
   "source": [
    "X = T.vector()\n",
    "X = T.matrix()\n",
    "X = T.tensor3()\n",
    "X = T.tensor4()"
   ]
  },
  {
   "cell_type": "markdown",
   "metadata": {
    "slideshow": {
     "slide_type": "slide"
    }
   },
   "source": [
    "Numpy style indexing\n",
    "==========="
   ]
  },
  {
   "cell_type": "code",
   "execution_count": 31,
   "metadata": {
    "collapsed": true,
    "slideshow": {
     "slide_type": "-"
    }
   },
   "outputs": [],
   "source": [
    "X = T.vector()"
   ]
  },
  {
   "cell_type": "code",
   "execution_count": 32,
   "metadata": {
    "collapsed": false
   },
   "outputs": [
    {
     "data": {
      "text/plain": [
       "Subtensor{int64:int64:int64}.0"
      ]
     },
     "execution_count": 32,
     "metadata": {},
     "output_type": "execute_result"
    }
   ],
   "source": [
    "X[1:-1:2]"
   ]
  },
  {
   "cell_type": "code",
   "execution_count": 33,
   "metadata": {
    "collapsed": false,
    "slideshow": {
     "slide_type": "fragment"
    }
   },
   "outputs": [
    {
     "data": {
      "text/plain": [
       "AdvancedSubtensor1.0"
      ]
     },
     "execution_count": 33,
     "metadata": {},
     "output_type": "execute_result"
    }
   ],
   "source": [
    "X[[1,2,3]]"
   ]
  },
  {
   "cell_type": "markdown",
   "metadata": {
    "slideshow": {
     "slide_type": "slide"
    }
   },
   "source": [
    "Many functions/operations are available through `theano.tensor` or variable methods"
   ]
  },
  {
   "cell_type": "code",
   "execution_count": 34,
   "metadata": {
    "collapsed": false
   },
   "outputs": [],
   "source": [
    "y = X.argmax()"
   ]
  },
  {
   "cell_type": "code",
   "execution_count": 35,
   "metadata": {
    "collapsed": true
   },
   "outputs": [],
   "source": [
    "y = T.cosh(X)"
   ]
  },
  {
   "cell_type": "code",
   "execution_count": 36,
   "metadata": {
    "collapsed": false
   },
   "outputs": [],
   "source": [
    "y = T.outer(X, X)"
   ]
  },
  {
   "cell_type": "markdown",
   "metadata": {},
   "source": [
    "But don't try to use numpy functions on Theano variables. Results may vary!"
   ]
  },
  {
   "cell_type": "markdown",
   "metadata": {
    "slideshow": {
     "slide_type": "slide"
    }
   },
   "source": [
    "Automatic differention\n",
    "============\n",
    "- Gradients are free!"
   ]
  },
  {
   "cell_type": "code",
   "execution_count": 37,
   "metadata": {
    "collapsed": false
   },
   "outputs": [],
   "source": [
    "x = T.scalar()\n",
    "y = T.log(x)"
   ]
  },
  {
   "cell_type": "code",
   "execution_count": 38,
   "metadata": {
    "collapsed": false,
    "slideshow": {
     "slide_type": "fragment"
    }
   },
   "outputs": [
    {
     "data": {
      "text/plain": [
       "array(0.5, dtype=float32)"
      ]
     },
     "execution_count": 38,
     "metadata": {},
     "output_type": "execute_result"
    }
   ],
   "source": [
    "gradient = T.grad(y, x)\n",
    "gradient.eval({x: 2})"
   ]
  },
  {
   "cell_type": "markdown",
   "metadata": {
    "slideshow": {
     "slide_type": "slide"
    }
   },
   "source": [
    "# Shared Variables\n",
    "\n",
    "- Symbolic + Storage"
   ]
  },
  {
   "cell_type": "code",
   "execution_count": 39,
   "metadata": {
    "collapsed": false
   },
   "outputs": [],
   "source": [
    "import numpy as np\n",
    "x = theano.shared(np.zeros((2, 3), dtype=theano.config.floatX))"
   ]
  },
  {
   "cell_type": "code",
   "execution_count": 40,
   "metadata": {
    "collapsed": false
   },
   "outputs": [
    {
     "data": {
      "text/plain": [
       "<CudaNdarrayType(float32, matrix)>"
      ]
     },
     "execution_count": 40,
     "metadata": {},
     "output_type": "execute_result"
    }
   ],
   "source": [
    "x"
   ]
  },
  {
   "cell_type": "markdown",
   "metadata": {
    "slideshow": {
     "slide_type": "slide"
    }
   },
   "source": [
    "We can get and set the variable's value"
   ]
  },
  {
   "cell_type": "code",
   "execution_count": 41,
   "metadata": {
    "collapsed": false,
    "slideshow": {
     "slide_type": "-"
    }
   },
   "outputs": [
    {
     "name": "stdout",
     "output_type": "stream",
     "text": [
      "(2, 3)\n",
      "[[ 0.  0.  0.]\n",
      " [ 0.  0.  0.]]\n"
     ]
    }
   ],
   "source": [
    "values = x.get_value()\n",
    "print(values.shape)\n",
    "print(values)"
   ]
  },
  {
   "cell_type": "code",
   "execution_count": 42,
   "metadata": {
    "collapsed": false
   },
   "outputs": [],
   "source": [
    "x.set_value(values)"
   ]
  },
  {
   "cell_type": "markdown",
   "metadata": {
    "slideshow": {
     "slide_type": "slide"
    }
   },
   "source": [
    "Shared variables can be used in expressions as well"
   ]
  },
  {
   "cell_type": "code",
   "execution_count": 43,
   "metadata": {
    "collapsed": false,
    "slideshow": {
     "slide_type": "-"
    }
   },
   "outputs": [
    {
     "data": {
      "text/plain": [
       "Elemwise{pow,no_inplace}.0"
      ]
     },
     "execution_count": 43,
     "metadata": {},
     "output_type": "execute_result"
    }
   ],
   "source": [
    "(x + 2) ** 2"
   ]
  },
  {
   "cell_type": "markdown",
   "metadata": {
    "slideshow": {
     "slide_type": "fragment"
    }
   },
   "source": [
    "Their value is used as input when evaluating"
   ]
  },
  {
   "cell_type": "code",
   "execution_count": 44,
   "metadata": {
    "collapsed": false
   },
   "outputs": [
    {
     "data": {
      "text/plain": [
       "array([[ 4.,  4.,  4.],\n",
       "       [ 4.,  4.,  4.]], dtype=float32)"
      ]
     },
     "execution_count": 44,
     "metadata": {},
     "output_type": "execute_result"
    }
   ],
   "source": [
    "((x + 2) ** 2).eval()"
   ]
  },
  {
   "cell_type": "code",
   "execution_count": 45,
   "metadata": {
    "collapsed": false
   },
   "outputs": [
    {
     "data": {
      "text/plain": [
       "array([[ 4.,  4.,  4.],\n",
       "       [ 4.,  4.,  4.]], dtype=float32)"
      ]
     },
     "execution_count": 45,
     "metadata": {},
     "output_type": "execute_result"
    }
   ],
   "source": [
    "theano.function([], (x + 2) ** 2)()"
   ]
  },
  {
   "cell_type": "markdown",
   "metadata": {
    "slideshow": {
     "slide_type": "slide"
    }
   },
   "source": [
    "# Updates\n",
    "\n",
    "- Store results of function evalution\n",
    "- `dict` mapping shared variables to new values"
   ]
  },
  {
   "cell_type": "code",
   "execution_count": 46,
   "metadata": {
    "collapsed": false,
    "slideshow": {
     "slide_type": "slide"
    }
   },
   "outputs": [],
   "source": [
    "count = theano.shared(0)\n",
    "new_count = count + 1\n",
    "updates = {count: new_count}\n",
    "\n",
    "f = theano.function([], count, updates=updates)"
   ]
  },
  {
   "cell_type": "code",
   "execution_count": 47,
   "metadata": {
    "collapsed": false,
    "slideshow": {
     "slide_type": "fragment"
    }
   },
   "outputs": [
    {
     "data": {
      "text/plain": [
       "array(0)"
      ]
     },
     "execution_count": 47,
     "metadata": {},
     "output_type": "execute_result"
    }
   ],
   "source": [
    "f()"
   ]
  },
  {
   "cell_type": "code",
   "execution_count": 48,
   "metadata": {
    "collapsed": false,
    "slideshow": {
     "slide_type": "fragment"
    }
   },
   "outputs": [
    {
     "data": {
      "text/plain": [
       "array(1)"
      ]
     },
     "execution_count": 48,
     "metadata": {},
     "output_type": "execute_result"
    }
   ],
   "source": [
    "f()"
   ]
  },
  {
   "cell_type": "code",
   "execution_count": 49,
   "metadata": {
    "collapsed": false,
    "slideshow": {
     "slide_type": "fragment"
    }
   },
   "outputs": [
    {
     "data": {
      "text/plain": [
       "array(2)"
      ]
     },
     "execution_count": 49,
     "metadata": {},
     "output_type": "execute_result"
    }
   ],
   "source": [
    "f()"
   ]
  }
 ],
 "metadata": {
  "celltoolbar": "Slideshow",
  "kernelspec": {
   "display_name": "Python 2",
   "language": "python",
   "name": "python2"
  },
  "language_info": {
   "codemirror_mode": {
    "name": "ipython",
    "version": 2
   },
   "file_extension": ".py",
   "mimetype": "text/x-python",
   "name": "python",
   "nbconvert_exporter": "python",
   "pygments_lexer": "ipython2",
   "version": "2.7.6"
  }
 },
 "nbformat": 4,
 "nbformat_minor": 0
}
