{
 "cells": [
  {
   "cell_type": "markdown",
   "metadata": {},
   "source": [
    "Custom `Layer` Classes\n",
    "============\n",
    "\n",
    "Lasagne is intended to be simple to extend. If you need to do something that isn't provided by one or a combination of the existing `Layer` classes, it is easy to create your own.\n",
    "\n",
    "The procedure:\n",
    "- Subclass `lasagne.layers.base.Layer`\n",
    "- Implement `get_output_for` which take a Theano expression and returns a new expression.\n",
    "- Implement `get_output_shape_for` which takes a shape tuple and returns a new tuple (only needed if your operation changes the shape).\n",
    "\n",
    "More details: https://lasagne.readthedocs.org/en/latest/user/custom_layers.html"
   ]
  },
  {
   "cell_type": "code",
   "execution_count": 27,
   "metadata": {
    "collapsed": false
   },
   "outputs": [],
   "source": [
    "import numpy as np\n",
    "import theano\n",
    "import theano.tensor as T\n",
    "import lasagne\n",
    "from lasagne.layers.base import Layer\n",
    "\n",
    "_srng = T.shared_randomstreams.RandomStreams()\n",
    "\n",
    "\n",
    "def theano_shuffled(input):\n",
    "    n = input.shape[0]\n",
    "\n",
    "    shuffled = T.permute_row_elements(input.T, _srng.permutation(n=n)).T\n",
    "    return shuffled\n",
    "\n",
    "class FractionalPool2DLayer(Layer):\n",
    "    \"\"\"\n",
    "    Fractional pooling as described in http://arxiv.org/abs/1412.6071\n",
    "    Only the random overlapping mode is currently implemented.\n",
    "    \"\"\"\n",
    "    def __init__(self, incoming, ds, pool_function=T.max, **kwargs):\n",
    "        super(FractionalPool2DLayer, self).__init__(incoming, **kwargs)\n",
    "        if type(ds) is not tuple:\n",
    "            raise ValueError(\"ds must be a tuple\")\n",
    "        if (not 1 <= ds[0] <= 2) or (not 1 <= ds[1] <= 2):\n",
    "            raise ValueError(\"ds must be between 1 and 2\")\n",
    "        self.ds = ds  # a tuple\n",
    "        if len(self.input_shape) != 4:\n",
    "            raise ValueError(\"Only bc01 currently supported\")\n",
    "        self.pool_function = pool_function\n",
    "\n",
    "    def get_output_shape_for(self, input_shape):\n",
    "        output_shape = list(input_shape) # copy / convert to mutable list\n",
    "        output_shape[2] = int(np.ceil(float(output_shape[2]) / self.ds[0]))\n",
    "        output_shape[3] = int(np.ceil(float(output_shape[3]) / self.ds[1]))\n",
    "\n",
    "        return tuple(output_shape)\n",
    "\n",
    "    def get_output_for(self, input, **kwargs):\n",
    "        _, _, n_in0, n_in1 = self.input_shape\n",
    "        _, _, n_out0, n_out1 = self.output_shape\n",
    "\n",
    "        # Variable stride across the input creates fractional reduction\n",
    "        a = theano.shared(\n",
    "            np.array([2] * (n_in0 - n_out0) + [1] * (2 * n_out0 - n_in0)))\n",
    "        b = theano.shared(\n",
    "            np.array([2] * (n_in1 - n_out1) + [1] * (2 * n_out1 - n_in1)))\n",
    "\n",
    "        # Randomize the input strides\n",
    "        a = theano_shuffled(a)\n",
    "        b = theano_shuffled(b)\n",
    "\n",
    "        # Convert to input positions, starting at 0\n",
    "        a = T.concatenate(([0], a[:-1]))\n",
    "        b = T.concatenate(([0], b[:-1]))\n",
    "        a = T.cumsum(a)\n",
    "        b = T.cumsum(b)\n",
    "\n",
    "        # Positions of the other corners\n",
    "        c = T.clip(a + 1, 0, n_in0 - 1)\n",
    "        d = T.clip(b + 1, 0, n_in1 - 1)\n",
    "\n",
    "        # Index the four positions in the pooling window and stack them\n",
    "        temp = T.stack(input[:, :, a, :][:, :, :, b],\n",
    "                       input[:, :, c, :][:, :, :, b],\n",
    "                       input[:, :, a, :][:, :, :, d],\n",
    "                       input[:, :, c, :][:, :, :, d])\n",
    "\n",
    "        return self.pool_function(temp, axis=0)"
   ]
  },
  {
   "cell_type": "code",
   "execution_count": 28,
   "metadata": {
    "collapsed": true
   },
   "outputs": [],
   "source": [
    "import matplotlib.pyplot as plt\n",
    "%matplotlib inline"
   ]
  },
  {
   "cell_type": "code",
   "execution_count": 64,
   "metadata": {
    "collapsed": true
   },
   "outputs": [],
   "source": [
    "# Seed for reproducibility\n",
    "np.random.seed(42)"
   ]
  },
  {
   "cell_type": "code",
   "execution_count": 80,
   "metadata": {
    "collapsed": false
   },
   "outputs": [
    {
     "name": "stdout",
     "output_type": "stream",
     "text": [
      "--2015-11-08 20:19:08--  https://upload.wikimedia.org/wikipedia/commons/thumb/a/ae/Rubik's_cube_scrambled.svg/64px-Rubik's_cube_scrambled.svg.png\n",
      "Resolving upload.wikimedia.org (upload.wikimedia.org)... 208.80.154.240, 2620:0:861:ed1a::2:b\n",
      "Connecting to upload.wikimedia.org (upload.wikimedia.org)|208.80.154.240|:443... connected.\n",
      "HTTP request sent, awaiting response... 200 OK\n",
      "Length: 5321 (5.2K) [image/png]\n",
      "Server file no newer than local file ‘64px-Rubik's_cube_scrambled.svg.png’ -- not retrieving.\n",
      "\n"
     ]
    }
   ],
   "source": [
    "# Get test image\n",
    "!wget -N \"https://upload.wikimedia.org/wikipedia/commons/thumb/a/ae/Rubik's_cube_scrambled.svg/64px-Rubik's_cube_scrambled.svg.png\"\n",
    "im = plt.imread(\"64px-Rubik's_cube_scrambled.svg.png\")\n",
    "im = im[:, :, :3]\n",
    "im = np.rollaxis(im, 2)[np.newaxis]"
   ]
  },
  {
   "cell_type": "code",
   "execution_count": 81,
   "metadata": {
    "collapsed": false
   },
   "outputs": [
    {
     "data": {
      "text/plain": [
       "(1, 3, 64, 64)"
      ]
     },
     "execution_count": 81,
     "metadata": {},
     "output_type": "execute_result"
    }
   ],
   "source": [
    "im.shape"
   ]
  },
  {
   "cell_type": "code",
   "execution_count": 82,
   "metadata": {
    "collapsed": true
   },
   "outputs": [],
   "source": [
    "l_in = lasagne.layers.InputLayer((1, 3, 64, 64))\n",
    "l_fracpool = FractionalPool2DLayer(l_in, ds=(1.5, 1.5))"
   ]
  },
  {
   "cell_type": "code",
   "execution_count": 83,
   "metadata": {
    "collapsed": false
   },
   "outputs": [
    {
     "data": {
      "text/plain": [
       "(1, 3, 43, 43)"
      ]
     },
     "execution_count": 83,
     "metadata": {},
     "output_type": "execute_result"
    }
   ],
   "source": [
    "l_fracpool.output_shape"
   ]
  },
  {
   "cell_type": "code",
   "execution_count": 84,
   "metadata": {
    "collapsed": false
   },
   "outputs": [],
   "source": [
    "output = lasagne.layers.get_output(l_fracpool)"
   ]
  },
  {
   "cell_type": "code",
   "execution_count": 87,
   "metadata": {
    "collapsed": false
   },
   "outputs": [
    {
     "data": {
      "text/plain": [
       "<matplotlib.image.AxesImage at 0x7fc38e3d63d0>"
      ]
     },
     "execution_count": 87,
     "metadata": {},
     "output_type": "execute_result"
    },
    {
     "data": {
      "image/png": "[encoded data removed]",
      "text/plain": [
       "<matplotlib.figure.Figure at 0x7fc38e3d8650>"
      ]
     },
     "metadata": {},
     "output_type": "display_data"
    }
   ],
   "source": [
    "# Evaluate output - each time will be slightly different due to the stochastic pooling\n",
    "outim = output.eval({l_in.input_var: im})\n",
    "outim = outim[0]\n",
    "outim = np.rollaxis(np.rollaxis(outim, 2), 2)\n",
    "plt.imshow(outim, interpolation='nearest')"
   ]
  },
  {
   "cell_type": "code",
   "execution_count": 88,
   "metadata": {
    "collapsed": false
   },
   "outputs": [
    {
     "data": {
      "text/plain": [
       "<matplotlib.image.AxesImage at 0x7fc38e2ff590>"
      ]
     },
     "execution_count": 88,
     "metadata": {},
     "output_type": "execute_result"
    },
    {
     "data": {
      "image/png": "[encoded data removed]",
      "text/plain": [
       "<matplotlib.figure.Figure at 0x7fc38e717cd0>"
      ]
     },
     "metadata": {},
     "output_type": "display_data"
    }
   ],
   "source": [
    "outim = output.eval({l_in.input_var: im})\n",
    "outim = outim[0]\n",
    "outim = np.rollaxis(np.rollaxis(outim, 2), 2)\n",
    "plt.imshow(outim, interpolation='nearest')"
   ]
  }
 ],
 "metadata": {
  "kernelspec": {
   "display_name": "Python 2",
   "language": "python",
   "name": "python2"
  },
  "language_info": {
   "codemirror_mode": {
    "name": "ipython",
    "version": 2
   },
   "file_extension": ".py",
   "mimetype": "text/x-python",
   "name": "python",
   "nbconvert_exporter": "python",
   "pygments_lexer": "ipython2",
   "version": "2.7.6"
  }
 },
 "nbformat": 4,
 "nbformat_minor": 0
}
