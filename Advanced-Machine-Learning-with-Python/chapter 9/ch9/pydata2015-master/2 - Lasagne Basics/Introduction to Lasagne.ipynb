{
 "cells": [
  {
   "cell_type": "code",
   "execution_count": 17,
   "metadata": {
    "collapsed": false
   },
   "outputs": [
    {
     "data": {
      "text/plain": [
       "{u'scroll': True,\n",
       " u'start_slideshow_at': 'selected',\n",
       " u'theme': 'simple',\n",
       " u'transition': 'fade'}"
      ]
     },
     "execution_count": 17,
     "metadata": {},
     "output_type": "execute_result"
    }
   ],
   "source": [
    "from notebook.services.config import ConfigManager\n",
    "cm = ConfigManager()\n",
    "cm.update('livereveal', {\n",
    "              'theme': 'simple',\n",
    "              'transition': 'fade',\n",
    "              'start_slideshow_at': 'selected',\n",
    "})"
   ]
  },
  {
   "cell_type": "markdown",
   "metadata": {
    "slideshow": {
     "slide_type": "slide"
    }
   },
   "source": [
    "What is Lasagne?\n",
    "------------------\n",
    "\n",
    "Lasagne is a lightweight library to build and train neural networks in Theano.\n",
    "\n",
    "- Bookkeeping device\n",
    "- Collection of helper functions"
   ]
  },
  {
   "cell_type": "markdown",
   "metadata": {
    "slideshow": {
     "slide_type": "slide"
    }
   },
   "source": [
    "Design Goals\n",
    "------------\n",
    "\n",
    "- Simplicity, Transparency, Modularity\n",
    "\n",
    "- Abstract Theano as little as possible"
   ]
  },
  {
   "cell_type": "markdown",
   "metadata": {
    "slideshow": {
     "slide_type": "slide"
    }
   },
   "source": [
    "Layers\n",
    "-------\n",
    "\n",
    "`Layer` classes are the bulk of Lasagne\n",
    "- Abstraction of a layer of neurons in a network\n",
    "- But also used for other functions (pooling, reshaping, etc.)\n",
    "- Track connectivity and data shape\n",
    "- Create and manage parameters (weights)"
   ]
  },
  {
   "cell_type": "markdown",
   "metadata": {
    "slideshow": {
     "slide_type": "slide"
    }
   },
   "source": [
    "Other Modules\n",
    "---------------\n",
    "\n",
    "- `init` - weight initialization algorithms\n",
    "- `objectives` - loss functions and evaluation metrics\n",
    "- `regularization` - penalty functions\n",
    "- `updates` - gradient descent variants"
   ]
  },
  {
   "cell_type": "markdown",
   "metadata": {
    "slideshow": {
     "slide_type": "slide"
    }
   },
   "source": [
    "Typical Usage\n",
    "--------------\n",
    "- Define layer sequence\n",
    "![Imgur](http://i.imgur.com/KsOeduv.png)"
   ]
  },
  {
   "cell_type": "markdown",
   "metadata": {
    "slideshow": {
     "slide_type": "slide"
    }
   },
   "source": [
    "Typical Usage\n",
    "--------------\n",
    "- Get expression for output\n",
    "![Imgur](http://i.imgur.com/k32Ob5U.png)"
   ]
  },
  {
   "cell_type": "markdown",
   "metadata": {
    "slideshow": {
     "slide_type": "slide"
    }
   },
   "source": [
    "Typical Usage\n",
    "--------------\n",
    "- Get expression for loss function \n",
    "![Imgur](http://i.imgur.com/2kPwN5L.png)"
   ]
  },
  {
   "cell_type": "markdown",
   "metadata": {
    "slideshow": {
     "slide_type": "slide"
    }
   },
   "source": [
    "Typical Usage\n",
    "--------------\n",
    "- Find gradient of loss wrt params and optimize\n",
    "![Imgur](http://i.imgur.com/kaVbU6P.png)"
   ]
  },
  {
   "cell_type": "markdown",
   "metadata": {
    "slideshow": {
     "slide_type": "slide"
    }
   },
   "source": [
    "Typical Usage\n",
    "--------------\n",
    "- Update parameters\n",
    "![Imgur](http://i.imgur.com/PUiPpSX.png)"
   ]
  },
  {
   "cell_type": "markdown",
   "metadata": {
    "slideshow": {
     "slide_type": "slide"
    }
   },
   "source": [
    "Resources\n",
    "----------\n",
    "\n",
    "- http://lasagne.readthedocs.org/\n",
    "- https://github.com/Lasagne/Recipes\n",
    "- https://groups.google.com/forum/#!forum/lasagne-users"
   ]
  },
  {
   "cell_type": "code",
   "execution_count": null,
   "metadata": {
    "collapsed": true
   },
   "outputs": [],
   "source": []
  }
 ],
 "metadata": {
  "celltoolbar": "Slideshow",
  "kernelspec": {
   "display_name": "Python 2",
   "language": "python",
   "name": "python2"
  },
  "language_info": {
   "codemirror_mode": {
    "name": "ipython",
    "version": 2
   },
   "file_extension": ".py",
   "mimetype": "text/x-python",
   "name": "python",
   "nbconvert_exporter": "python",
   "pygments_lexer": "ipython2",
   "version": "2.7.6"
  }
 },
 "nbformat": 4,
 "nbformat_minor": 0
}
